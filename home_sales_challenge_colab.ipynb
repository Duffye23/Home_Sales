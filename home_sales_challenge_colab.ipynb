{
  "nbformat": 4,
  "nbformat_minor": 0,
  "metadata": {
    "colab": {
      "provenance": [],
      "authorship_tag": "ABX9TyOQddD0D82zvBPLdl1qlJY9",
      "include_colab_link": true
    },
    "kernelspec": {
      "name": "python3",
      "display_name": "Python 3"
    },
    "language_info": {
      "name": "python"
    }
  },
  "cells": [
    {
      "cell_type": "markdown",
      "metadata": {
        "id": "view-in-github",
        "colab_type": "text"
      },
      "source": [
        "<a href=\"https://colab.research.google.com/github/Duffye23/Home_Sales/blob/main/home_sales_challenge_Colab.ipynb\" target=\"_parent\"><img src=\"https://colab.research.google.com/assets/colab-badge.svg\" alt=\"Open In Colab\"/></a>"
      ]
    },
    {
      "cell_type": "code",
      "execution_count": 1,
      "metadata": {
        "colab": {
          "base_uri": "https://localhost:8080/"
        },
        "id": "zRVOfRcgDcQT",
        "outputId": "ffdf0a91-e6e6-4e9d-bb90-1d8871a8f3e3"
      },
      "outputs": [
        {
          "output_type": "stream",
          "name": "stdout",
          "text": [
            "\r0% [Working]\r            \rHit:1 http://archive.ubuntu.com/ubuntu jammy InRelease\n",
            "\r0% [Waiting for headers] [Connecting to security.ubuntu.com (185.125.190.39)] [Waiting for headers] \r                                                                                                    \rHit:2 https://cloud.r-project.org/bin/linux/ubuntu jammy-cran40/ InRelease\n",
            "\r0% [Waiting for headers] [Connecting to security.ubuntu.com (185.125.190.39)] [Connecting to ppa.lau\r                                                                                                    \rHit:3 http://archive.ubuntu.com/ubuntu jammy-updates InRelease\n",
            "\r0% [Waiting for headers] [Connecting to security.ubuntu.com (185.125.190.39)] [Connecting to ppa.lau\r                                                                                                    \rHit:4 http://archive.ubuntu.com/ubuntu jammy-backports InRelease\n",
            "Hit:5 https://developer.download.nvidia.com/compute/cuda/repos/ubuntu2204/x86_64  InRelease\n",
            "Hit:6 http://security.ubuntu.com/ubuntu jammy-security InRelease\n",
            "Hit:7 https://ppa.launchpadcontent.net/c2d4u.team/c2d4u4.0+/ubuntu jammy InRelease\n",
            "Hit:8 https://ppa.launchpadcontent.net/deadsnakes/ppa/ubuntu jammy InRelease\n",
            "Hit:9 https://ppa.launchpadcontent.net/graphics-drivers/ppa/ubuntu jammy InRelease\n",
            "Hit:10 https://ppa.launchpadcontent.net/ubuntugis/ppa/ubuntu jammy InRelease\n",
            "Reading package lists... Done\n"
          ]
        }
      ],
      "source": [
        "import os\n",
        "# Find the latest version of spark 3.x  from http://www.apache.org/dist/spark/ and enter as the spark version\n",
        "# For example:\n",
        "# spark_version = 'spark-3.5.0'\n",
        "spark_version = 'spark-3.5.0'\n",
        "os.environ['SPARK_VERSION']=spark_version\n",
        "\n",
        "# Install Spark and Java\n",
        "!apt-get update\n",
        "!apt-get install openjdk-11-jdk-headless -qq > /dev/null\n",
        "!wget -q https://dlcdn.apache.org/spark/spark-3.5.0/spark-3.5.0-bin-hadoop3.tgz\n",
        "!tar xf $SPARK_VERSION-bin-hadoop3.tgz\n",
        "!pip install -q findspark\n",
        "\n",
        "# Set Environment Variables\n",
        "os.environ[\"JAVA_HOME\"] = \"/usr/lib/jvm/java-11-openjdk-amd64\"\n",
        "os.environ[\"SPARK_HOME\"] = f\"/content/{spark_version}-bin-hadoop3\"\n"
      ]
    },
    {
      "cell_type": "code",
      "source": [
        "# Start a SparkSession\n",
        "import findspark\n",
        "findspark.init()"
      ],
      "metadata": {
        "id": "-HOTEplaDgjz"
      },
      "execution_count": 2,
      "outputs": []
    },
    {
      "cell_type": "code",
      "source": [
        "# Import packages\n",
        "from pyspark.sql import SparkSession\n",
        "import time\n",
        "\n",
        "# Create a SparkSession\n",
        "spark = SparkSession.builder.appName(\"SparkSQL\").getOrCreate()"
      ],
      "metadata": {
        "id": "84SILazIO0HB"
      },
      "execution_count": 3,
      "outputs": []
    },
    {
      "cell_type": "code",
      "source": [
        "# 1. Read in the AWS S3 bucket into a DataFrame.\n",
        "from pyspark import SparkFiles\n",
        "url = \"https://2u-data-curriculum-team.s3.amazonaws.com/dataviz-classroom/v1.2/22-big-data/home_sales_revised.csv\"\n",
        "spark.sparkContext.addFile(url)\n",
        "sales_df = spark.read.csv(SparkFiles.get(\"home_sales_revised.csv\"), sep=\",\", header=True)\n",
        "sales_df.show(5)\n"
      ],
      "metadata": {
        "colab": {
          "base_uri": "https://localhost:8080/"
        },
        "id": "Xoms7E8sO2gN",
        "outputId": "2f887f39-b5d7-4d02-f41a-0305f9f4d485"
      },
      "execution_count": 4,
      "outputs": [
        {
          "output_type": "stream",
          "name": "stdout",
          "text": [
            "+--------------------+----------+----------+------+--------+---------+-----------+--------+------+----------+----+\n",
            "|                  id|      date|date_built| price|bedrooms|bathrooms|sqft_living|sqft_lot|floors|waterfront|view|\n",
            "+--------------------+----------+----------+------+--------+---------+-----------+--------+------+----------+----+\n",
            "|f8a53099-ba1c-47d...|2022-04-08|      2016|936923|       4|        3|       3167|   11733|     2|         1|  76|\n",
            "|7530a2d8-1ae3-451...|2021-06-13|      2013|379628|       2|        2|       2235|   14384|     1|         0|  23|\n",
            "|43de979c-0bf0-4c9...|2019-04-12|      2014|417866|       2|        2|       2127|   10575|     2|         0|   0|\n",
            "|b672c137-b88c-48b...|2019-10-16|      2016|239895|       2|        2|       1631|   11149|     2|         0|   0|\n",
            "|e0726d4d-d595-407...|2022-01-08|      2017|424418|       3|        2|       2249|   13878|     2|         0|   4|\n",
            "+--------------------+----------+----------+------+--------+---------+-----------+--------+------+----------+----+\n",
            "only showing top 5 rows\n",
            "\n"
          ]
        }
      ]
    },
    {
      "cell_type": "code",
      "source": [
        "# 2. Create a temporary view of the DataFrame.\n",
        "sales_df.createOrReplaceTempView('sales')\n"
      ],
      "metadata": {
        "id": "-DaWUpZcO4Qp"
      },
      "execution_count": 5,
      "outputs": []
    },
    {
      "cell_type": "code",
      "source": [
        "# 3. What is the average price for a four bedroom house sold in each year rounded to two decimal places?\n",
        "spark.sql(\"\"\"SELECT YEAR(date) AS year, ROUND(AVG(price),2) AS average_price\n",
        "             FROM sales WHERE bedrooms=4\n",
        "             GROUP BY year\n",
        "             ORDER BY year\"\"\").show()\n"
      ],
      "metadata": {
        "colab": {
          "base_uri": "https://localhost:8080/"
        },
        "id": "-x5KX5_9PMSA",
        "outputId": "a15780b1-2bb2-40c6-9f74-0c7a44998b9a"
      },
      "execution_count": 6,
      "outputs": [
        {
          "output_type": "stream",
          "name": "stdout",
          "text": [
            "+----+-------------+\n",
            "|year|average_price|\n",
            "+----+-------------+\n",
            "|2019|     300263.7|\n",
            "|2020|    298353.78|\n",
            "|2021|    301819.44|\n",
            "|2022|    296363.88|\n",
            "+----+-------------+\n",
            "\n"
          ]
        }
      ]
    },
    {
      "cell_type": "code",
      "source": [
        "# 4. What is the average price of a home for each year the home was built that have 3 bedrooms and 3 bathrooms rounded to two decimal places?\n",
        "spark.sql(\"\"\"SELECT date_built AS year_built, ROUND(AVG(price), 2) AS avg_price\n",
        "          FROM sales WHERE bedrooms=3 AND bathrooms=3\n",
        "          GROUP BY date_built\n",
        "          ORDER BY date_built\"\"\").show()\n"
      ],
      "metadata": {
        "id": "ke3wuVaQPOTQ",
        "colab": {
          "base_uri": "https://localhost:8080/"
        },
        "outputId": "98b13691-f698-4e2b-efc4-eafe470d09ee"
      },
      "execution_count": 7,
      "outputs": [
        {
          "output_type": "stream",
          "name": "stdout",
          "text": [
            "+----------+---------+\n",
            "|year_built|avg_price|\n",
            "+----------+---------+\n",
            "|      2010|292859.62|\n",
            "|      2011|291117.47|\n",
            "|      2012|293683.19|\n",
            "|      2013|295962.27|\n",
            "|      2014|290852.27|\n",
            "|      2015| 288770.3|\n",
            "|      2016|290555.07|\n",
            "|      2017|292676.79|\n",
            "+----------+---------+\n",
            "\n"
          ]
        }
      ]
    },
    {
      "cell_type": "code",
      "source": [
        "# 5. What is the average price of a home for each year built that have 3 bedrooms, 3 bathrooms, with two floors,\n",
        "# and are greater than or equal to 2,000 square feet rounded to two decimal places?\n",
        "spark.sql(\"\"\"SELECT date_built AS year_built, ROUND(AVG(price), 2) AS avg_price\n",
        "          FROM sales WHERE bedrooms=3 AND bathrooms=3 AND floors=2 AND sqft_living>=2000\n",
        "          GROUP BY date_built ORDER BY date_built\"\"\").show()\n",
        "\n"
      ],
      "metadata": {
        "id": "1JNd-4cVPPXV",
        "colab": {
          "base_uri": "https://localhost:8080/"
        },
        "outputId": "032e9dd9-cc29-4cfc-fed9-ac77f97eff84"
      },
      "execution_count": 8,
      "outputs": [
        {
          "output_type": "stream",
          "name": "stdout",
          "text": [
            "+----------+---------+\n",
            "|year_built|avg_price|\n",
            "+----------+---------+\n",
            "|      2010|285010.22|\n",
            "|      2011|276553.81|\n",
            "|      2012|307539.97|\n",
            "|      2013|303676.79|\n",
            "|      2014|298264.72|\n",
            "|      2015|297609.97|\n",
            "|      2016| 293965.1|\n",
            "|      2017|280317.58|\n",
            "+----------+---------+\n",
            "\n"
          ]
        }
      ]
    },
    {
      "cell_type": "code",
      "source": [
        "# 6. What is the \"view\" rating for the average price of a home, rounded to two decimal places, where the homes are greater than\n",
        "# or equal to $350,000? Although this is a small dataset, determine the run time for this query.\n",
        "\n",
        "start_time = time.time()\n",
        "\n",
        "view_rating = \"\"\" SELECT view AS Rating, ROUND(AVG(price), 2) AS avg_price\n",
        "                    FROM sales GROUP BY view HAVING avg_price >= 350000\n",
        "                    ORDER BY view DESC \"\"\"\n",
        "spark.sql(view_rating).show()\n",
        "\n",
        "\n",
        "print(\"--- %s seconds ---\" % (time.time() - start_time))"
      ],
      "metadata": {
        "id": "b6MN3f4nPQOj",
        "colab": {
          "base_uri": "https://localhost:8080/"
        },
        "outputId": "d9005ece-d728-4800-fa1d-3f2a259bf2b8"
      },
      "execution_count": 9,
      "outputs": [
        {
          "output_type": "stream",
          "name": "stdout",
          "text": [
            "+------+----------+\n",
            "|Rating| avg_price|\n",
            "+------+----------+\n",
            "|    99|1061201.42|\n",
            "|    98|1053739.33|\n",
            "|    97|1129040.15|\n",
            "|    96|1017815.92|\n",
            "|    95| 1054325.6|\n",
            "|    94| 1033536.2|\n",
            "|    93|1026006.06|\n",
            "|    92| 970402.55|\n",
            "|    91|1137372.73|\n",
            "|    90|1062654.16|\n",
            "|    89|1107839.15|\n",
            "|    88|1031719.35|\n",
            "|    87| 1072285.2|\n",
            "|    86|1070444.25|\n",
            "|    85|1056336.74|\n",
            "|    84|1117233.13|\n",
            "|    83|1033965.93|\n",
            "|    82| 1063498.0|\n",
            "|    81|1053472.79|\n",
            "|    80| 991767.38|\n",
            "+------+----------+\n",
            "only showing top 20 rows\n",
            "\n",
            "--- 1.2253260612487793 seconds ---\n"
          ]
        }
      ]
    },
    {
      "cell_type": "code",
      "source": [
        "# 7. Cache the the temporary table home_sales.\n",
        "spark.sql(\"cache table sales\")\n"
      ],
      "metadata": {
        "id": "-r14bpybPRYg",
        "colab": {
          "base_uri": "https://localhost:8080/"
        },
        "outputId": "869c896f-9d93-44bd-a321-be54c5cf947c"
      },
      "execution_count": 10,
      "outputs": [
        {
          "output_type": "execute_result",
          "data": {
            "text/plain": [
              "DataFrame[]"
            ]
          },
          "metadata": {},
          "execution_count": 10
        }
      ]
    },
    {
      "cell_type": "code",
      "source": [
        "# 8. Check if the table is cached.\n",
        "spark.catalog.isCached('sales')"
      ],
      "metadata": {
        "id": "Epuzo2ApPSdV",
        "colab": {
          "base_uri": "https://localhost:8080/"
        },
        "outputId": "00d2499d-8868-473a-bea1-54f3045b49f1"
      },
      "execution_count": 11,
      "outputs": [
        {
          "output_type": "execute_result",
          "data": {
            "text/plain": [
              "True"
            ]
          },
          "metadata": {},
          "execution_count": 11
        }
      ]
    },
    {
      "cell_type": "code",
      "source": [
        "# 9. Using the cached data, run the query that filters out the view ratings with average price\n",
        "#  greater than or equal to $350,000. Determine the runtime and compare it to uncached runtime.\n",
        "\n",
        "start_time = time.time()\n",
        "\n",
        "spark.sql(view_rating).show()\n",
        "\n",
        "print(\"--- %s seconds ---\" % (time.time() - start_time))\n"
      ],
      "metadata": {
        "id": "05MhxkYxPTrE",
        "colab": {
          "base_uri": "https://localhost:8080/"
        },
        "outputId": "4a9fbd01-c5aa-446f-9ad2-9885b5c52430"
      },
      "execution_count": 12,
      "outputs": [
        {
          "output_type": "stream",
          "name": "stdout",
          "text": [
            "+------+----------+\n",
            "|Rating| avg_price|\n",
            "+------+----------+\n",
            "|    99|1061201.42|\n",
            "|    98|1053739.33|\n",
            "|    97|1129040.15|\n",
            "|    96|1017815.92|\n",
            "|    95| 1054325.6|\n",
            "|    94| 1033536.2|\n",
            "|    93|1026006.06|\n",
            "|    92| 970402.55|\n",
            "|    91|1137372.73|\n",
            "|    90|1062654.16|\n",
            "|    89|1107839.15|\n",
            "|    88|1031719.35|\n",
            "|    87| 1072285.2|\n",
            "|    86|1070444.25|\n",
            "|    85|1056336.74|\n",
            "|    84|1117233.13|\n",
            "|    83|1033965.93|\n",
            "|    82| 1063498.0|\n",
            "|    81|1053472.79|\n",
            "|    80| 991767.38|\n",
            "+------+----------+\n",
            "only showing top 20 rows\n",
            "\n",
            "--- 1.0818700790405273 seconds ---\n"
          ]
        }
      ]
    },
    {
      "cell_type": "code",
      "source": [
        "# 10. Partition by the \"date_built\" field on the formatted parquet home sales data\n",
        "sales_df.write.partitionBy(\"date_built\").parquet(\"date_built_partition\", mode=\"overwrite\")"
      ],
      "metadata": {
        "id": "Kn7eXvaZPVJT"
      },
      "execution_count": 13,
      "outputs": []
    },
    {
      "cell_type": "code",
      "source": [
        "# 11. Read the parquet formatted data.\n",
        "parquet_sales_df = spark.read.parquet('date_built_partition')"
      ],
      "metadata": {
        "id": "qO7PdiN3PWLT"
      },
      "execution_count": 14,
      "outputs": []
    },
    {
      "cell_type": "code",
      "source": [
        "# 12. Create a temporary table for the parquet data.\n",
        "parquet_sales_df.createOrReplaceTempView('sales_partition')"
      ],
      "metadata": {
        "id": "VYlSrpo2PXHg"
      },
      "execution_count": 18,
      "outputs": []
    },
    {
      "cell_type": "code",
      "source": [
        "# 13. Run the query that filters out the view ratings with average price of greater than or equal to $350,000\n",
        "# with the parquet DataFrame. Round your average to two decimal places.\n",
        "# Determine the runtime and compare it to the cached version.\n",
        "\n",
        "start_time = time.time()\n",
        "\n",
        "view_rating_partition = \"\"\" SELECT view AS Rating, ROUND(AVG(price), 2) AS avg_price\n",
        "                    FROM sales_partition GROUP BY view HAVING avg_price >= 350000\n",
        "                    ORDER BY view DESC \"\"\"\n",
        "spark.sql(view_rating_partitionS).show()\n",
        "\n",
        "print(\"--- %s seconds ---\" % (time.time() - start_time))"
      ],
      "metadata": {
        "id": "GC1diOBlPYNl",
        "colab": {
          "base_uri": "https://localhost:8080/"
        },
        "outputId": "af477e8a-f6bc-4bf4-e25a-0fe2f04e525c"
      },
      "execution_count": 23,
      "outputs": [
        {
          "output_type": "stream",
          "name": "stdout",
          "text": [
            "+------+----------+\n",
            "|Rating| avg_price|\n",
            "+------+----------+\n",
            "|    99|1061201.42|\n",
            "|    98|1053739.33|\n",
            "|    97|1129040.15|\n",
            "|    96|1017815.92|\n",
            "|    95| 1054325.6|\n",
            "|    94| 1033536.2|\n",
            "|    93|1026006.06|\n",
            "|    92| 970402.55|\n",
            "|    91|1137372.73|\n",
            "|    90|1062654.16|\n",
            "|    89|1107839.15|\n",
            "|    88|1031719.35|\n",
            "|    87| 1072285.2|\n",
            "|    86|1070444.25|\n",
            "|    85|1056336.74|\n",
            "|    84|1117233.13|\n",
            "|    83|1033965.93|\n",
            "|    82| 1063498.0|\n",
            "|    81|1053472.79|\n",
            "|    80| 991767.38|\n",
            "+------+----------+\n",
            "only showing top 20 rows\n",
            "\n",
            "--- 0.613844633102417 seconds ---\n"
          ]
        }
      ]
    },
    {
      "cell_type": "code",
      "source": [
        "# 14. Uncache the home_sales temporary table.\n",
        "spark.sql('uncache table sales')"
      ],
      "metadata": {
        "id": "fT-5omEJPZVz",
        "colab": {
          "base_uri": "https://localhost:8080/"
        },
        "outputId": "44d382d5-7522-468f-daea-ca14fca905ae"
      },
      "execution_count": 24,
      "outputs": [
        {
          "output_type": "execute_result",
          "data": {
            "text/plain": [
              "DataFrame[]"
            ]
          },
          "metadata": {},
          "execution_count": 24
        }
      ]
    },
    {
      "cell_type": "code",
      "source": [
        "# 15. Check if the home_sales is no longer cached\n",
        "spark.catalog.isCached('sales')\n"
      ],
      "metadata": {
        "id": "77lAKnU_PbsW",
        "colab": {
          "base_uri": "https://localhost:8080/"
        },
        "outputId": "51d9158d-dfa8-47c4-9413-f5548f1b29c1"
      },
      "execution_count": 25,
      "outputs": [
        {
          "output_type": "execute_result",
          "data": {
            "text/plain": [
              "False"
            ]
          },
          "metadata": {},
          "execution_count": 25
        }
      ]
    }
  ]
}
